{
 "cells": [
  {
   "cell_type": "code",
   "execution_count": 1,
   "metadata": {
    "collapsed": false
   },
   "outputs": [],
   "source": [
    "import pandas as pd\n",
    "import matplotlib.pyplot as plt\n",
    "from statistics import mean\n",
    "from collections import defaultdict\n",
    "from sklearn import linear_model\n",
    "import numpy as np\n",
    "from scipy.optimize import minimize\n",
    "from math import exp\n",
    "from sklearn.model_selection import StratifiedKFold\n",
    "from sklearn.linear_model import LogisticRegression\n",
    "from sklearn.preprocessing import StandardScaler"
   ]
  },
  {
   "cell_type": "code",
   "execution_count": 2,
   "metadata": {
    "collapsed": false
   },
   "outputs": [],
   "source": [
    "excel = pd.ExcelFile('/Users/hristostoychev/Downloads/Hypothetical_Default_Data.xls')\n",
    "df = excel.parse('All')"
   ]
  },
  {
   "cell_type": "code",
   "execution_count": null,
   "metadata": {
    "collapsed": true
   },
   "outputs": [],
   "source": [
    "plt.matshow(df.corr())\n",
    "plt.show()"
   ]
  },
  {
   "cell_type": "code",
   "execution_count": 3,
   "metadata": {
    "collapsed": false
   },
   "outputs": [],
   "source": [
    "# for i in range(1,19):\n",
    "#     plt.subplot(5,5,i)\n",
    "#     plt.title('Ratio {}'.format(i))\n",
    "#     plt.hist(df['Ratio {}'.format(i)], bins=50)\n",
    "\n",
    "# plt.subplots_adjust(left=0.1,right=0.9, top=0.9, bottom=0.0, wspace=0.4, hspace=0.4)\n",
    "# plt.show()"
   ]
  },
  {
   "cell_type": "code",
   "execution_count": null,
   "metadata": {
    "collapsed": false
   },
   "outputs": [],
   "source": [
    "number_of_observations_in_bucket = 500\n",
    "\n",
    "x_per_ratio = defaultdict(list)\n",
    "y_per_ratio = defaultdict(list)\n",
    "\n",
    "for i in range(1, 19):\n",
    "    ratio_with_defaults = df[['Ratio {}'.format(i), 'Default']].sort_values(by='Ratio {}'.format(i))\n",
    "    ratio = ratio_with_defaults['Ratio {}'.format(i)]\n",
    "    defaults = ratio_with_defaults['Default']\n",
    "    for j in range(0, len(ratio), number_of_observations_in_bucket):\n",
    "        bucket_ratio = ratio[j:j+number_of_observations_in_bucket]\n",
    "        bucket_defaults = defaults[j:j+number_of_observations_in_bucket]\n",
    "        \n",
    "        bucket_lower_boundary = bucket_ratio.iloc[0]\n",
    "        bucket_upper_boundary = bucket_ratio.iloc[-1]\n",
    "        bucket_mean = mean(bucket_ratio)\n",
    "        defaults_in_observation = sum(bucket_defaults)\n",
    "        default_rate = defaults_in_observation / len(bucket_defaults)\n",
    "        \n",
    "        x_per_ratio[i].append(bucket_mean)\n",
    "        y_per_ratio[i].append(default_rate)"
   ]
  },
  {
   "cell_type": "code",
   "execution_count": null,
   "metadata": {
    "collapsed": true
   },
   "outputs": [],
   "source": [
    "def minimize_smoothehing_func(params):\n",
    "    a, b, c, d = params\n",
    "    return sum((Ys[i] - (a + b / (1 + exp(c+d*Xs[i]))))**2 for i in range(len(Xs)))"
   ]
  },
  {
   "cell_type": "code",
   "execution_count": null,
   "metadata": {
    "collapsed": true
   },
   "outputs": [],
   "source": [
    "def smoothening_func(params):\n",
    "    a, b, c, d, x = params\n",
    "    return a + b / (1 + exp(c+d*x))"
   ]
  },
  {
   "cell_type": "code",
   "execution_count": null,
   "metadata": {
    "collapsed": false
   },
   "outputs": [],
   "source": [
    "smoothening_params_by_ratio = dict()\n",
    "\n",
    "for i in range(1, 19):\n",
    "#     plt.subplot(5,5,i)\n",
    "#     plt.title('Ratio {}'.format(i))\n",
    "    Xs = x_per_ratio[i]\n",
    "    Ys = y_per_ratio[i]\n",
    "    \n",
    "#     plt.scatter(Xs, Ys, s=2)\n",
    "#     plt.ylim(0 - 0.005, max(Ys) + 0.005)\n",
    "    \n",
    "    w = minimize(minimize_smoothehing_func, np.zeros(4))\n",
    "    \n",
    "    smoothed_Ys = [smoothening_func([w.x[0], w.x[1], w.x[2], w.x[3], x]) for x in Xs]\n",
    "    smoothening_params_by_ratio[i] = [w.x[0], w.x[1], w.x[2], w.x[3]]\n",
    "    \n",
    "#     plt.plot(Xs, smoothed_Ys, color='red')\n",
    "    \n",
    "# plt.subplots_adjust(left=0.1,right=0.9, top=0.9, bottom=0.0, wspace=0.4, hspace=0.4)\n",
    "\n",
    "# plt.show()"
   ]
  },
  {
   "cell_type": "code",
   "execution_count": null,
   "metadata": {
    "collapsed": false
   },
   "outputs": [],
   "source": [
    "PERFECT_MODEL_AUC = 1 - (319 / 9999) + (319 / 9999) / 2\n",
    "\n",
    "number_of_defaults = 319\n",
    "number_of_all = 9999\n",
    "\n",
    "for i in range(1, 19):\n",
    "    ratio_with_defaults = df[['Ratio {}'.format(i), 'Default']]\n",
    "    \n",
    "    ratio = ratio_with_defaults['Ratio {}'.format(i)]\n",
    "    defaults = ratio_with_defaults['Default']\n",
    "    \n",
    "    ratio_smoothening_params = smoothening_params_by_ratio[i]\n",
    "    PD_probabilities_defaults = []\n",
    "    \n",
    "    for j in range(len(ratio)):\n",
    "        specific_ratio_PD = smoothening_func(ratio_smoothening_params + [ratio[j]])\n",
    "        PD_probabilities_defaults.append((specific_ratio_PD, defaults[j]))\n",
    "\n",
    "    Xs_plot = [0]\n",
    "    Ys_plot = [0]\n",
    "    current_y = 0\n",
    "    current_x = 0\n",
    "    AUC = 0\n",
    "    \n",
    "    for j, probability_default in enumerate(sorted(PD_probabilities_defaults, reverse=True)):\n",
    "        probability, default = probability_default\n",
    "        \n",
    "        current_x += 1 / number_of_all\n",
    "        Xs_plot.append(current_x)\n",
    "        \n",
    "        current_y = current_y + 1 / number_of_defaults if default else current_y\n",
    "        Ys_plot.append(current_y)\n",
    "        \n",
    "        AUC += (current_y * 1 / number_of_all)\n",
    "       \n",
    "#     plt.subplot(5,5,i)\n",
    "#     plt.title('Ratio {} - AR = {}'.format(i, round((AUC - 0.5) / (PERFECT_MODEL_AUC - 0.5), 2)))\n",
    "#     plt.plot(Xs_plot, Ys_plot)\n",
    "#     plt.plot([0, 1], [0, 1])\n",
    "#     plt.plot([0, number_of_defaults / number_of_all, 1], [0, 1, 1])\n",
    "    \n",
    "# plt.subplots_adjust(left=0.05,right=0.95, top=0.9, bottom=0.0, wspace=0.4, hspace=0.4)    \n",
    "# plt.show()"
   ]
  },
  {
   "cell_type": "code",
   "execution_count": null,
   "metadata": {
    "collapsed": false
   },
   "outputs": [],
   "source": [
    "PERFECT_MODEL_AUC = 1 - (319 / 9999) + (319 / 9999) / 2\n",
    "\n",
    "X_train = df.iloc[:,[2,3,4,5,6,7,8,9,10,11,12,13,14,15,16,17,18]]\n",
    "y_train = df.iloc[:, 0]\n",
    "\n",
    "in_sample_model = LogisticRegression(solver='lbfgs', multi_class='multinomial', max_iter=10000).fit(X_train, y_train)\n",
    "predicted_probabilities = in_sample_model.predict_proba(X_train)\n",
    "\n",
    "predicted_with_default = []\n",
    "for i in range(len(predicted_probabilities)):\n",
    "    predicted_with_default.append((predicted_probabilities[i][1], y_train.iloc[i]))\n",
    "    \n",
    "Xs_plot = [0]\n",
    "Ys_plot = [0]\n",
    "current_y = 0\n",
    "current_x = 0\n",
    "AUC = 0\n",
    "\n",
    "for j, (probability, default) in enumerate(sorted(predicted_with_default, reverse=True)):\n",
    "    current_x += 1 / len(X_train)\n",
    "    Xs_plot.append(current_x)\n",
    "\n",
    "    current_y = current_y + 1 / sum(y_train) if default else current_y\n",
    "    Ys_plot.append(current_y)\n",
    "\n",
    "    AUC += (current_y * 1 / len(X_train))\n",
    "\n",
    "plt.title('In Sample Model - AR = {}'.format(round((AUC - 0.5) / (PERFECT_MODEL_AUC - 0.5), 2)))\n",
    "plt.plot(Xs_plot, Ys_plot)\n",
    "plt.plot([0, 1], [0, 1])\n",
    "plt.plot([0, 319 / 9999, 1], [0, 1, 1])\n",
    "plt.show()"
   ]
  },
  {
   "cell_type": "code",
   "execution_count": null,
   "metadata": {
    "collapsed": false
   },
   "outputs": [],
   "source": [
    "skf = StratifiedKFold(n_splits=10)\n",
    "X = df.iloc[:,[2,3,4,5,6,10,16,17]]\n",
    "y = df.iloc[:, 0]\n",
    "\n",
    "# for column in X:\n",
    "#     smoothening_params = smoothening_params_by_ratio[int(column.split(' ')[1])]\n",
    "#     for index in range(len(X[column])):\n",
    "#         X[column][index] = smoothening_func(smoothening_params + [X[column][index]])\n",
    "\n",
    "predicted_with_actual = []\n",
    "PERFECT_MODEL_AUC = 1 - (319 / 9999) + (319 / 9999) / 2\n",
    "\n",
    "for k, (train_index, test_index) in enumerate(skf.split(X, y)):\n",
    "    X_train, X_test = X.iloc[train_index], X.iloc[test_index]\n",
    "    y_train, y_test = y.iloc[train_index], y.iloc[test_index]\n",
    "    \n",
    "#     sc_x = StandardScaler()\n",
    "#     X_train = sc_x.fit_transform(X_train)\n",
    "#     X_test = sc_x.transform(X_test)\n",
    "    \n",
    "    clf = LogisticRegression(solver='lbfgs', multi_class='multinomial', max_iter=10000).fit(X_train, y_train)\n",
    "    predicted_probabilities = clf.predict_proba(X_test)\n",
    "    print(k + 1)\n",
    "    print(len(X_train), len(X_test))\n",
    "    \n",
    "    for i in range(len(predicted_probabilities)):\n",
    "        predicted_with_actual.append((predicted_probabilities[i][1], y_test.iloc[i]))\n",
    "        \n",
    "Xs_plot = [0]\n",
    "Ys_plot = [0]\n",
    "current_y = 0\n",
    "current_x = 0\n",
    "AUC = 0\n",
    "\n",
    "for j, probability_default in enumerate(sorted(predicted_with_actual, reverse=True)):\n",
    "    probability, default = probability_default\n",
    "\n",
    "    current_x += 1 / 9999\n",
    "    Xs_plot.append(current_x)\n",
    "\n",
    "    current_y = current_y + 1 / 319 if default else current_y\n",
    "    Ys_plot.append(current_y)\n",
    "\n",
    "    AUC += (current_y * 1 / 9999)\n",
    "\n",
    "plt.title('K-fold 10 Splits Model - AR = {}'.format(round((AUC - 0.5) / (PERFECT_MODEL_AUC - 0.5), 2)))\n",
    "plt.plot(Xs_plot, Ys_plot)\n",
    "plt.plot([0, 1], [0, 1])\n",
    "plt.plot([0, 319 / 9999, 1], [0, 1, 1])\n",
    "plt.show()"
   ]
  },
  {
   "cell_type": "code",
   "execution_count": null,
   "metadata": {
    "collapsed": false
   },
   "outputs": [],
   "source": [
    "import statsmodels.formula.api as sm\n",
    "XX = np.append(arr = np.ones((9999, 1)).astype(int), values = df.iloc[:,1:19], axis = 1)\n",
    "X_opt = XX[:,[0,2,3,4,5,6,16,17]]\n",
    "y = df.iloc[:, 0]\n",
    "regressor_OLS = sm.OLS(endog = y, exog = X_opt).fit()\n",
    "regressor_OLS.summary()"
   ]
  },
  {
   "cell_type": "code",
   "execution_count": null,
   "metadata": {
    "collapsed": true
   },
   "outputs": [],
   "source": []
  }
 ],
 "metadata": {
  "kernelspec": {
   "display_name": "Python 3",
   "language": "python",
   "name": "python3"
  },
  "language_info": {
   "codemirror_mode": {
    "name": "ipython",
    "version": 3
   },
   "file_extension": ".py",
   "mimetype": "text/x-python",
   "name": "python",
   "nbconvert_exporter": "python",
   "pygments_lexer": "ipython3",
   "version": "3.5.1"
  }
 },
 "nbformat": 4,
 "nbformat_minor": 0
}
